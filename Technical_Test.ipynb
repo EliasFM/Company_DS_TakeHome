{
 "cells": [
  {
   "cell_type": "code",
   "execution_count": 1,
   "metadata": {},
   "outputs": [],
   "source": [
    "import numpy as np\n",
    "import pandas as pd\n",
    "import matplotlib.pyplot as plt\n",
    "from sklearn import linear_model\n",
    "from sklearn import ensemble\n",
    "from sklearn import preprocessing\n",
    "from sklearn import metrics\n",
    "from sklearn.metrics import classification_report,confusion_matrix\n",
    "from sklearn.metrics import precision_recall_fscore_support\n",
    "from sklearn.model_selection import train_test_split\n",
    "from sklearn.pipeline import make_pipeline\n",
    "from sklearn.compose import ColumnTransformer, make_column_transformer\n",
    "import sklearn.dummy as dummy\n",
    "import csv\n",
    "import seaborn as sns\n",
    "import warnings\n",
    "warnings.filterwarnings('ignore')\n",
    "\n",
    "pd.options.display.max_rows = None\n",
    "pd.options.display.max_columns = None\n",
    "\n",
    "%matplotlib inline"
   ]
  },
  {
   "cell_type": "markdown",
   "metadata": {},
   "source": [
    "## File Imports"
   ]
  },
  {
   "cell_type": "code",
   "execution_count": 2,
   "metadata": {},
   "outputs": [],
   "source": [
    "test_file_excel = 'Test Data.xlsx'"
   ]
  },
  {
   "cell_type": "code",
   "execution_count": 3,
   "metadata": {},
   "outputs": [],
   "source": [
    "test = pd.read_excel(test_file_excel)"
   ]
  },
  {
   "cell_type": "code",
   "execution_count": 4,
   "metadata": {},
   "outputs": [
    {
     "data": {
      "text/plain": [
       "(536, 33)"
      ]
     },
     "execution_count": 4,
     "metadata": {},
     "output_type": "execute_result"
    }
   ],
   "source": [
    "test.shape"
   ]
  },
  {
   "cell_type": "code",
   "execution_count": 5,
   "metadata": {},
   "outputs": [
    {
     "data": {
      "text/plain": [
       "Index(['Make', 'Model', 'Year', 'Condition_Trim (description)', 'MSRP',\n",
       "       'Body type', 'Length (in)', 'Width (in)', 'Height (in)',\n",
       "       'Wheelbase (in)', 'Curb weight (lbs)', 'Cylinders', 'Engine size (l)',\n",
       "       'Horsepower (HP)', 'Horsepower (rpm)', 'Torque (ft-lbs)',\n",
       "       'Torque (rpm)', 'Drive type', 'Transmission', 'Engine type',\n",
       "       'Fuel type', 'Fuel tank capacity (gal)', 'Combined MPG',\n",
       "       'EPA mileage (mpg)', 'Range (miles)', 'Domestic / imported',\n",
       "       'Country of origin', 'Car classification',\n",
       "       'Platform code / generation number', 'Date added', 'New make',\n",
       "       'New model', 'New year'],\n",
       "      dtype='object')"
      ]
     },
     "execution_count": 5,
     "metadata": {},
     "output_type": "execute_result"
    }
   ],
   "source": [
    "test.columns"
   ]
  },
  {
   "cell_type": "markdown",
   "metadata": {},
   "source": [
    "## 1. A unique list of Trim values (column d) separated from condition and description"
   ]
  },
  {
   "cell_type": "code",
   "execution_count": 6,
   "metadata": {},
   "outputs": [],
   "source": [
    "trial = test['Condition_Trim (description)'][0]"
   ]
  },
  {
   "cell_type": "code",
   "execution_count": 7,
   "metadata": {},
   "outputs": [
    {
     "data": {
      "text/plain": [
       "'USED_325i Rwd 4dr Sedan (2.5L 6cyl 5M)'"
      ]
     },
     "execution_count": 7,
     "metadata": {},
     "output_type": "execute_result"
    }
   ],
   "source": [
    "trial"
   ]
  },
  {
   "cell_type": "code",
   "execution_count": 8,
   "metadata": {
    "scrolled": true
   },
   "outputs": [
    {
     "data": {
      "text/plain": [
       "'325i Rwd 4dr Sedan'"
      ]
     },
     "execution_count": 8,
     "metadata": {},
     "output_type": "execute_result"
    }
   ],
   "source": [
    "trial.split('_')[1].split('(')[0].strip() # takes the string after the condition and before the description"
   ]
  },
  {
   "cell_type": "code",
   "execution_count": 9,
   "metadata": {},
   "outputs": [
    {
     "data": {
      "text/plain": [
       "0"
      ]
     },
     "execution_count": 9,
     "metadata": {},
     "output_type": "execute_result"
    }
   ],
   "source": [
    "test['Condition_Trim (description)'].isnull().sum()"
   ]
  },
  {
   "cell_type": "code",
   "execution_count": 10,
   "metadata": {},
   "outputs": [],
   "source": [
    "def get_trim(x):\n",
    "    \n",
    "    # Trim and description are after the condition_ so grab whatevers after the _ if it exists\n",
    "    temp = x.split('_')\n",
    "    if len(temp) == 2:\n",
    "        x = temp[1]\n",
    "    elif len(temp) > 2:\n",
    "        return None # preferrably log or raise error here\n",
    "    \n",
    "    # description is specified by the parens, so grab whatevers before the parens if it exists\n",
    "    temp = x.split('(')\n",
    "    if len(temp) == 2:\n",
    "        x = temp[0]\n",
    "    elif len(temp) > 2:\n",
    "        return None # preferrably log or raise error here\n",
    "    \n",
    "    return x.strip() # remove white space"
   ]
  },
  {
   "cell_type": "code",
   "execution_count": 11,
   "metadata": {},
   "outputs": [
    {
     "data": {
      "text/plain": [
       "'325i Rwd 4dr Sedan'"
      ]
     },
     "execution_count": 11,
     "metadata": {},
     "output_type": "execute_result"
    }
   ],
   "source": [
    "get_trim(trial)"
   ]
  },
  {
   "cell_type": "code",
   "execution_count": 12,
   "metadata": {},
   "outputs": [],
   "source": [
    "trim = test['Condition_Trim (description)'].apply(lambda x: get_trim(x))"
   ]
  },
  {
   "cell_type": "code",
   "execution_count": 13,
   "metadata": {},
   "outputs": [
    {
     "data": {
      "text/plain": [
       "0"
      ]
     },
     "execution_count": 13,
     "metadata": {},
     "output_type": "execute_result"
    }
   ],
   "source": [
    "trim.isnull().sum() # check for Null values, where there's excess _ or ("
   ]
  },
  {
   "cell_type": "code",
   "execution_count": 14,
   "metadata": {},
   "outputs": [],
   "source": [
    "unique_trim = trim.unique()"
   ]
  },
  {
   "cell_type": "code",
   "execution_count": 15,
   "metadata": {},
   "outputs": [],
   "source": [
    "with open('unique_trim.csv', 'w') as outfile:\n",
    "    wtr = csv.writer(outfile, delimiter=',', lineterminator='\\n')\n",
    "    for x in unique_trim: \n",
    "        wtr.writerow([x])\n"
   ]
  },
  {
   "cell_type": "markdown",
   "metadata": {},
   "source": [
    "## 2. An array with average MSRP by Make and Year"
   ]
  },
  {
   "cell_type": "code",
   "execution_count": 16,
   "metadata": {},
   "outputs": [
    {
     "data": {
      "text/plain": [
       "152"
      ]
     },
     "execution_count": 16,
     "metadata": {},
     "output_type": "execute_result"
    }
   ],
   "source": [
    "test['MSRP'].isnull().sum()"
   ]
  },
  {
   "cell_type": "code",
   "execution_count": 17,
   "metadata": {},
   "outputs": [],
   "source": [
    "make_year_avg_msrp = test.groupby(['Make','Year'])['MSRP'].mean()"
   ]
  },
  {
   "cell_type": "code",
   "execution_count": 18,
   "metadata": {},
   "outputs": [],
   "source": [
    "make_year_avg_msrp = make_year_avg_msrp.fillna(0)"
   ]
  },
  {
   "cell_type": "code",
   "execution_count": 19,
   "metadata": {},
   "outputs": [
    {
     "data": {
      "text/plain": [
       "Make    Year\n",
       "BMW     1990        0.000000\n",
       "        1992        0.000000\n",
       "        1994        0.000000\n",
       "        1996        0.000000\n",
       "        1998        0.000000\n",
       "        2000        0.000000\n",
       "        2002    35735.000000\n",
       "        2004    37112.500000\n",
       "        2006    39390.909091\n",
       "        2008    42943.333333\n",
       "        2010    44212.500000\n",
       "        2012    47746.428571\n",
       "        2014    40230.769231\n",
       "        2016    42665.384615\n",
       "        2018    49296.153846\n",
       "        2020    48375.000000\n",
       "Ford    1990        0.000000\n",
       "        1995        0.000000\n",
       "        2000        0.000000\n",
       "        2005    29333.645833\n",
       "        2010    34036.078431\n",
       "        2015    39443.625000\n",
       "        2020    44693.409091\n",
       "Toyota  2001    19995.000000\n",
       "        2002    19995.000000\n",
       "        2003    19995.000000\n",
       "        2004    20295.000000\n",
       "        2005    21275.000000\n",
       "        2006    21725.000000\n",
       "        2007    22622.500000\n",
       "        2008    22715.000000\n",
       "        2009    23215.000000\n",
       "        2010    24534.000000\n",
       "        2011    25254.000000\n",
       "        2012    26124.000000\n",
       "        2013    26458.333333\n",
       "        2014    26324.000000\n",
       "        2015    26434.166667\n",
       "        2016    26983.333333\n",
       "        2017    26760.714286\n",
       "        2018    26917.857143\n",
       "        2019    27328.333333\n",
       "        2020    27840.833333\n",
       "Name: MSRP, dtype: float64"
      ]
     },
     "execution_count": 19,
     "metadata": {},
     "output_type": "execute_result"
    }
   ],
   "source": [
    "make_year_avg_msrp"
   ]
  },
  {
   "cell_type": "code",
   "execution_count": 20,
   "metadata": {},
   "outputs": [],
   "source": [
    "make_year_avg_msrp.to_csv('make_year_avg_msrp.csv')"
   ]
  },
  {
   "cell_type": "markdown",
   "metadata": {},
   "source": [
    "## 3. Pick at least two Scikit-learn classification models, set up each models using the provided training data with the idea of classifying future data by “Make”. Compare and contrast the results, then provide a recommendation on which model you prefer. "
   ]
  },
  {
   "cell_type": "markdown",
   "metadata": {},
   "source": [
    "### Replace Nulls"
   ]
  },
  {
   "cell_type": "code",
   "execution_count": 21,
   "metadata": {},
   "outputs": [
    {
     "data": {
      "text/plain": [
       "Make                                   0\n",
       "Model                                  0\n",
       "Year                                   0\n",
       "Condition_Trim (description)           0\n",
       "MSRP                                 152\n",
       "Body type                              0\n",
       "Length (in)                            0\n",
       "Width (in)                             0\n",
       "Height (in)                            0\n",
       "Wheelbase (in)                         0\n",
       "Curb weight (lbs)                     67\n",
       "Cylinders                              0\n",
       "Engine size (l)                        0\n",
       "Horsepower (HP)                        2\n",
       "Horsepower (rpm)                       2\n",
       "Torque (ft-lbs)                       40\n",
       "Torque (rpm)                          40\n",
       "Drive type                             0\n",
       "Transmission                          26\n",
       "Engine type                            0\n",
       "Fuel type                              0\n",
       "Fuel tank capacity (gal)               0\n",
       "Combined MPG                           4\n",
       "EPA mileage (mpg)                      6\n",
       "Range (miles)                          0\n",
       "Domestic / imported                    0\n",
       "Country of origin                      0\n",
       "Car classification                     0\n",
       "Platform code / generation number      0\n",
       "Date added                             0\n",
       "New make                             536\n",
       "New model                            533\n",
       "New year                             493\n",
       "dtype: int64"
      ]
     },
     "execution_count": 21,
     "metadata": {},
     "output_type": "execute_result"
    }
   ],
   "source": [
    "test.isnull().sum()"
   ]
  },
  {
   "cell_type": "code",
   "execution_count": 22,
   "metadata": {},
   "outputs": [],
   "source": [
    "na_cols = ['Trim','Model','MSRP','Curb weight (lbs)','Horsepower (HP)',\n",
    "           'Horsepower (rpm)','Torque (ft-lbs)','Torque (rpm)',\n",
    "           'Transmission','Combined MPG','EPA mileage (mpg)']"
   ]
  },
  {
   "cell_type": "code",
   "execution_count": 23,
   "metadata": {},
   "outputs": [],
   "source": [
    "na_num_cols = ['MSRP','Curb weight (lbs)','Horsepower (HP)',\n",
    "           'Horsepower (rpm)','Torque (ft-lbs)','Torque (rpm)',\n",
    "           'Combined MPG']"
   ]
  },
  {
   "cell_type": "code",
   "execution_count": 24,
   "metadata": {},
   "outputs": [],
   "source": [
    "na_str_cols = ['Transmission','EPA mileage (mpg)']"
   ]
  },
  {
   "cell_type": "code",
   "execution_count": 25,
   "metadata": {},
   "outputs": [],
   "source": [
    "test['Trim'] = trim"
   ]
  },
  {
   "cell_type": "code",
   "execution_count": 26,
   "metadata": {},
   "outputs": [
    {
     "data": {
      "text/plain": [
       "MSRP                 118\n",
       "Curb weight (lbs)     17\n",
       "Horsepower (HP)        0\n",
       "Horsepower (rpm)       0\n",
       "Torque (ft-lbs)        0\n",
       "Torque (rpm)           0\n",
       "Combined MPG           0\n",
       "dtype: int64"
      ]
     },
     "execution_count": 26,
     "metadata": {},
     "output_type": "execute_result"
    }
   ],
   "source": [
    "test[na_cols].groupby('Trim').transform(lambda x: x.fillna(x.mean())).isnull().sum()"
   ]
  },
  {
   "cell_type": "code",
   "execution_count": 27,
   "metadata": {},
   "outputs": [],
   "source": [
    "test[na_num_cols] = test[na_cols].groupby('Trim').transform(lambda x: x.fillna(x.mean()))"
   ]
  },
  {
   "cell_type": "code",
   "execution_count": 28,
   "metadata": {},
   "outputs": [
    {
     "data": {
      "text/plain": [
       "MSRP                 0\n",
       "Curb weight (lbs)    0\n",
       "Horsepower (HP)      0\n",
       "Horsepower (rpm)     0\n",
       "Torque (ft-lbs)      0\n",
       "Torque (rpm)         0\n",
       "Combined MPG         0\n",
       "dtype: int64"
      ]
     },
     "execution_count": 28,
     "metadata": {},
     "output_type": "execute_result"
    }
   ],
   "source": [
    "test[na_cols].groupby('Model').transform(lambda x: x.fillna(x.mean())).isnull().sum()"
   ]
  },
  {
   "cell_type": "code",
   "execution_count": 29,
   "metadata": {},
   "outputs": [],
   "source": [
    "test[na_num_cols] = test[na_cols].groupby('Model').transform(lambda x: x.fillna(x.mean()))"
   ]
  },
  {
   "cell_type": "code",
   "execution_count": 30,
   "metadata": {},
   "outputs": [
    {
     "data": {
      "text/plain": [
       "Make                                   0\n",
       "Model                                  0\n",
       "Year                                   0\n",
       "Condition_Trim (description)           0\n",
       "MSRP                                   0\n",
       "Body type                              0\n",
       "Length (in)                            0\n",
       "Width (in)                             0\n",
       "Height (in)                            0\n",
       "Wheelbase (in)                         0\n",
       "Curb weight (lbs)                      0\n",
       "Cylinders                              0\n",
       "Engine size (l)                        0\n",
       "Horsepower (HP)                        0\n",
       "Horsepower (rpm)                       0\n",
       "Torque (ft-lbs)                        0\n",
       "Torque (rpm)                           0\n",
       "Drive type                             0\n",
       "Transmission                          26\n",
       "Engine type                            0\n",
       "Fuel type                              0\n",
       "Fuel tank capacity (gal)               0\n",
       "Combined MPG                           0\n",
       "EPA mileage (mpg)                      6\n",
       "Range (miles)                          0\n",
       "Domestic / imported                    0\n",
       "Country of origin                      0\n",
       "Car classification                     0\n",
       "Platform code / generation number      0\n",
       "Date added                             0\n",
       "New make                             536\n",
       "New model                            533\n",
       "New year                             493\n",
       "Trim                                   0\n",
       "dtype: int64"
      ]
     },
     "execution_count": 30,
     "metadata": {},
     "output_type": "execute_result"
    }
   ],
   "source": [
    "test.isnull().sum()"
   ]
  },
  {
   "cell_type": "code",
   "execution_count": 31,
   "metadata": {},
   "outputs": [
    {
     "data": {
      "text/plain": [
       "Model                 0\n",
       "MSRP                  0\n",
       "Curb weight (lbs)     0\n",
       "Horsepower (HP)       0\n",
       "Horsepower (rpm)      0\n",
       "Torque (ft-lbs)       0\n",
       "Torque (rpm)          0\n",
       "Transmission         14\n",
       "Combined MPG          0\n",
       "EPA mileage (mpg)     0\n",
       "dtype: int64"
      ]
     },
     "execution_count": 31,
     "metadata": {},
     "output_type": "execute_result"
    }
   ],
   "source": [
    "test[na_cols].groupby('Trim').transform(lambda x: x.ffill().bfill()).isnull().sum()"
   ]
  },
  {
   "cell_type": "code",
   "execution_count": 32,
   "metadata": {},
   "outputs": [],
   "source": [
    "test[na_str_cols] = test[['Trim','Transmission','EPA mileage (mpg)']].groupby('Trim').transform(lambda x: x.ffill().bfill())"
   ]
  },
  {
   "cell_type": "code",
   "execution_count": 33,
   "metadata": {},
   "outputs": [
    {
     "data": {
      "text/plain": [
       "Trim                 0\n",
       "MSRP                 0\n",
       "Curb weight (lbs)    0\n",
       "Horsepower (HP)      0\n",
       "Horsepower (rpm)     0\n",
       "Torque (ft-lbs)      0\n",
       "Torque (rpm)         0\n",
       "Transmission         0\n",
       "Combined MPG         0\n",
       "EPA mileage (mpg)    0\n",
       "dtype: int64"
      ]
     },
     "execution_count": 33,
     "metadata": {},
     "output_type": "execute_result"
    }
   ],
   "source": [
    "test[na_cols].groupby('Model').transform(lambda x: x.ffill().bfill()).isnull().sum()"
   ]
  },
  {
   "cell_type": "code",
   "execution_count": 34,
   "metadata": {},
   "outputs": [],
   "source": [
    "test[na_str_cols] = test[['Model','Transmission','EPA mileage (mpg)']].groupby('Model').transform(lambda x: x.ffill().bfill())"
   ]
  },
  {
   "cell_type": "code",
   "execution_count": 35,
   "metadata": {},
   "outputs": [],
   "source": [
    "# filled_df is columns nafilled and excluding new make, year, model as they're predominantly null\n",
    "# filled_df = test[['Make','Model', 'Year',  'MSRP',\n",
    "#        'Body type', 'Length (in)', 'Width (in)', 'Height (in)',\n",
    "#        'Wheelbase (in)', 'Curb weight (lbs)', 'Cylinders', 'Engine size (l)',\n",
    "#        'Horsepower (HP)', 'Horsepower (rpm)', 'Torque (ft-lbs)',\n",
    "#        'Torque (rpm)', 'Drive type', 'Transmission', 'Engine type',\n",
    "#        'Fuel type', 'Fuel tank capacity (gal)', 'Combined MPG',\n",
    "#        'EPA mileage (mpg)', 'Range (miles)', 'Domestic / imported',\n",
    "#        'Country of origin', 'Car classification',\n",
    "#        'Platform code / generation number', 'Date added', 'Trim']]"
   ]
  },
  {
   "cell_type": "code",
   "execution_count": 36,
   "metadata": {},
   "outputs": [],
   "source": [
    "def plot_all(df):\n",
    "    # IN:  dataframe\n",
    "    # OUT: draws histograms of every column\n",
    "    dfx = df.copy()\n",
    "    \n",
    "    pos = 1\n",
    "    plt.figure(figsize=(15,175))\n",
    "    \n",
    "    for col in dfx.columns:\n",
    "        \n",
    "        if (not isinstance(dfx[col][0], str)):\n",
    "            not_nans = [x for x in dfx[col] if str(x) != 'nan']\n",
    "            \n",
    "            plt.subplot(42,3,pos)\n",
    "            plt.title(col)\n",
    "            \n",
    "            plt.hist(not_nans,bins=25)\n",
    "            \n",
    "            pos += 1"
   ]
  },
  {
   "cell_type": "code",
   "execution_count": 37,
   "metadata": {},
   "outputs": [
    {
     "data": {
      "image/png": "[encoded data removed]",
      "text/plain": [
       "<Figure size 1080x12600 with 17 Axes>"
      ]
     },
     "metadata": {
      "needs_background": "light"
     },
     "output_type": "display_data"
    }
   ],
   "source": [
    "plot_all(test)"
   ]
  },
  {
   "cell_type": "markdown",
   "metadata": {},
   "source": [
    "### Train Test Split"
   ]
  },
  {
   "cell_type": "code",
   "execution_count": 38,
   "metadata": {},
   "outputs": [],
   "source": [
    "# We don't include  'New make', 'New model', 'New year' as they are nearly completely NaN\n",
    "# We also don't include epa mileage or range (miles) as combined milage is a derivative of epa\n",
    "# and Range is a derivative of epa and capacity. \n",
    "# We could have used epa instead of combine, however combined was already clean\n",
    "# We also don't include condition_trim as we have trim already separated out, and condition shouldn't show model\n",
    "# Including Trim is going to overfit us so it's been removed, this isn't trying to be a dictionary of trim to make\n",
    "features = ['Model', 'Year', 'MSRP',\n",
    "       'Body type', 'Length (in)', 'Width (in)', 'Height (in)',\n",
    "       'Wheelbase (in)', 'Curb weight (lbs)', 'Cylinders', 'Engine size (l)',\n",
    "       'Horsepower (HP)', 'Horsepower (rpm)', 'Torque (ft-lbs)',\n",
    "       'Torque (rpm)', 'Drive type', 'Transmission', 'Engine type',\n",
    "       'Fuel type', 'Fuel tank capacity (gal)', 'Combined MPG',\n",
    "       'Domestic / imported',\n",
    "       'Country of origin', 'Car classification',\n",
    "       'Platform code / generation number', 'Date added']"
   ]
  },
  {
   "cell_type": "code",
   "execution_count": 39,
   "metadata": {},
   "outputs": [],
   "source": [
    "X = test[features]\n",
    "Y = preprocessing.OrdinalEncoder().fit(test.loc[:,['Make']]).transform(test.loc[:,['Make']])"
   ]
  },
  {
   "cell_type": "code",
   "execution_count": 40,
   "metadata": {},
   "outputs": [],
   "source": [
    "X_train, X_test, y_train, y_test = train_test_split(X, Y, train_size = 0.8, random_state=9)"
   ]
  },
  {
   "cell_type": "markdown",
   "metadata": {},
   "source": [
    "### Preprocessing"
   ]
  },
  {
   "cell_type": "code",
   "execution_count": 41,
   "metadata": {},
   "outputs": [],
   "source": [
    "categorical_features = ['Model','Body type','Cylinders',\n",
    "                        'Drive type','Transmission','Engine type','Fuel type',\n",
    "                        'Domestic / imported','Country of origin','Car classification',\n",
    "                        'Platform code / generation number']"
   ]
  },
  {
   "cell_type": "code",
   "execution_count": 42,
   "metadata": {},
   "outputs": [],
   "source": [
    "numerical_features = features = ['Year', 'MSRP',\n",
    "       'Length (in)', 'Width (in)', 'Height (in)',\n",
    "       'Wheelbase (in)', 'Curb weight (lbs)',  'Engine size (l)',\n",
    "       'Horsepower (HP)', 'Horsepower (rpm)', 'Torque (ft-lbs)',\n",
    "       'Torque (rpm)',  'Fuel tank capacity (gal)', 'Combined MPG',\n",
    "        'Date added']"
   ]
  },
  {
   "cell_type": "code",
   "execution_count": 43,
   "metadata": {},
   "outputs": [],
   "source": [
    "preprocess = make_column_transformer(\n",
    "    (preprocessing.StandardScaler(), numerical_features),\n",
    "    (preprocessing.OneHotEncoder(), categorical_features))"
   ]
  },
  {
   "cell_type": "markdown",
   "metadata": {},
   "source": [
    "### Models"
   ]
  },
  {
   "cell_type": "code",
   "execution_count": 44,
   "metadata": {},
   "outputs": [],
   "source": [
    "from sklearn.ensemble import RandomForestClassifier\n",
    "from sklearn.naive_bayes import GaussianNB\n",
    "from sklearn.neighbors import KNeighborsClassifier"
   ]
  },
  {
   "cell_type": "code",
   "execution_count": 45,
   "metadata": {},
   "outputs": [
    {
     "name": "stdout",
     "output_type": "stream",
     "text": [
      "random forest classifier score: 1.000000\n"
     ]
    }
   ],
   "source": [
    "# random forest\n",
    "rf_cl = make_pipeline(\n",
    "        preprocess,\n",
    "        RandomForestClassifier(max_depth=5, n_estimators=10, max_features=1))\n",
    "rf_cl.fit(X_train, y_train.ravel())\n",
    "print(\"random forest classifier score: %f\" % rf_cl.score(X_test, y_test))"
   ]
  },
  {
   "cell_type": "code",
   "execution_count": 46,
   "metadata": {},
   "outputs": [
    {
     "name": "stdout",
     "output_type": "stream",
     "text": [
      "KNeighbors classifier score: 1.000000\n"
     ]
    }
   ],
   "source": [
    "# KN\n",
    "kn_cl = make_pipeline(\n",
    "        preprocess,\n",
    "        KNeighborsClassifier(3))\n",
    "kn_cl.fit(X_train, y_train.ravel())\n",
    "print(\"KNeighbors classifier score: %f\" % kn_cl.score(X_test, y_test))"
   ]
  },
  {
   "cell_type": "code",
   "execution_count": 47,
   "metadata": {},
   "outputs": [
    {
     "name": "stdout",
     "output_type": "stream",
     "text": [
      "naive bayes classifier score: 1.000000\n"
     ]
    }
   ],
   "source": [
    "# naive bayes\n",
    "nb_cl = make_pipeline(\n",
    "        preprocess,\n",
    "        GaussianNB())\n",
    "nb_cl.fit(X_train, y_train.ravel())\n",
    "print(\"naive bayes classifier score: %f\" % nb_cl.score(X_test, y_test))"
   ]
  },
  {
   "cell_type": "code",
   "execution_count": 48,
   "metadata": {},
   "outputs": [
    {
     "name": "stdout",
     "output_type": "stream",
     "text": [
      "dummy classifier score: 0.472222\n"
     ]
    }
   ],
   "source": [
    "# dummy classifier\n",
    "dummy_clf = dummy.DummyClassifier(strategy='most_frequent',random_state=10,constant = 1)\n",
    "dummy_clf.fit(X_train, y_train)\n",
    "print(\"dummy classifier score: %f\" % dummy_clf.score(X_test, y_test))"
   ]
  },
  {
   "cell_type": "markdown",
   "metadata": {},
   "source": [
    "##### trying to make this more difficult"
   ]
  },
  {
   "cell_type": "code",
   "execution_count": 49,
   "metadata": {},
   "outputs": [],
   "source": [
    "# not including categorical scalers also means that im dropping them\n",
    "# trying this because among the categorical features there are many that can replace make\n",
    "preprocess = make_column_transformer(\n",
    "    (preprocessing.StandardScaler(), numerical_features))\n"
   ]
  },
  {
   "cell_type": "code",
   "execution_count": 50,
   "metadata": {},
   "outputs": [
    {
     "name": "stdout",
     "output_type": "stream",
     "text": [
      "random forest classifier score: 1.000000\n"
     ]
    }
   ],
   "source": [
    "# random forest\n",
    "rf_cl = make_pipeline(\n",
    "        preprocess,\n",
    "        RandomForestClassifier(max_depth=5, n_estimators=10, max_features=1))\n",
    "rf_cl.fit(X_train, y_train.ravel())\n",
    "print(\"random forest classifier score: %f\" % rf_cl.score(X_test, y_test.ravel()))"
   ]
  },
  {
   "cell_type": "code",
   "execution_count": 51,
   "metadata": {},
   "outputs": [
    {
     "name": "stdout",
     "output_type": "stream",
     "text": [
      "KNeighbors classifier score: 1.000000\n"
     ]
    }
   ],
   "source": [
    "# KN\n",
    "kn_cl = make_pipeline(\n",
    "        preprocess,\n",
    "        KNeighborsClassifier(3))\n",
    "kn_cl.fit(X_train, y_train.ravel())\n",
    "print(\"KNeighbors classifier score: %f\" % kn_cl.score(X_test, y_test.ravel()))"
   ]
  },
  {
   "cell_type": "code",
   "execution_count": 52,
   "metadata": {},
   "outputs": [
    {
     "name": "stdout",
     "output_type": "stream",
     "text": [
      "naive bayes classifier score: 0.981481\n"
     ]
    }
   ],
   "source": [
    "# naive bayes\n",
    "nb_cl = make_pipeline(\n",
    "        preprocess,\n",
    "        GaussianNB())\n",
    "nb_cl.fit(X_train, y_train.ravel())\n",
    "print(\"naive bayes classifier score: %f\" % nb_cl.score(X_test, y_test.ravel()))"
   ]
  },
  {
   "cell_type": "code",
   "execution_count": 53,
   "metadata": {},
   "outputs": [
    {
     "data": {
      "image/png": "[encoded data removed]",
      "text/plain": [
       "<Figure size 648x504 with 4 Axes>"
      ]
     },
     "metadata": {
      "needs_background": "light"
     },
     "output_type": "display_data"
    }
   ],
   "source": [
    "df_scores = pd.DataFrame()\n",
    "models = [rf_cl, kn_cl, nb_cl, dummy_clf]\n",
    "model_name = ['random forest','KNN','Naive Bayes', 'Dummy']\n",
    "\n",
    "for i, model in enumerate(models):\n",
    " \n",
    "    y_predict = model.predict(X_test)\n",
    "    \n",
    "    p,r,f1,support = precision_recall_fscore_support(y_test,y_predict,beta=1)\n",
    "    \n",
    "    acc = (y_test.ravel() == y_predict).sum() / y_test.ravel().shape[0]\n",
    "    \n",
    "    scores = {'model':model_name[i],'accuracy':acc,'precision':p[1],'recall':r[1],'f1':f1[1]}\n",
    "    df_scores = df_scores.append(pd.DataFrame(data=scores,index=[0]))\n",
    "    \n",
    "df_scores.reset_index(drop=True,inplace=True)\n",
    "flatui = ['#008DAB','#FCE700','#E81D64','#4A4A4A']\n",
    "cpal = sns.color_palette(flatui)\n",
    "plt.figure(figsize=(9,7))\n",
    "i = 1\n",
    "yticks = [[0,0.5,1.0],[0,0.25,0.5,0.75],[0,0.5,1],[0,0.2,0.4,0.6],[0,0.25,0.5,0.75]]\n",
    "\n",
    "\n",
    "for metric,yt in zip(['accuracy','f1','precision','recall'],yticks):\n",
    "\n",
    "    sfont = 13\n",
    "    bfont = 17\n",
    "    plt.subplot(2,2,i)\n",
    "    sns.barplot(x='model',y=metric,data=df_scores,palette=cpal)\n",
    "    plt.xlabel('')\n",
    "    plt.ylabel('',fontsize=sfont)\n",
    "    plt.xticks(np.arange(4),['Random Forest','KNN','Naive Bayes', 'Dummy'],fontsize=sfont)\n",
    "    #plt.yticks([0,0.5,1],fontsize=sfont)\n",
    "    plt.yticks(fontsize=sfont)\n",
    "    plt.title(metric,fontsize=bfont)\n",
    "    #plt.xlim(-0.5,3.5)\n",
    "    i+=1\n",
    "    \n",
    "plt.tight_layout()"
   ]
  },
  {
   "cell_type": "markdown",
   "metadata": {},
   "source": [
    "The models chosen for comparison are Random Forest (rf) and K-Nearest Neighbors (knn). Both were perfectly accurate even when categorical variables were removed, so comparing them in relation to this dataset and classification goal is difficult. If including categorical features the better choice would be to use a rf, as decision trees are great for categorical variables and they also scale better to the higher dimensionality of the dataset. If just using numerical features, knn would become a stronger model because we've reduced the dimensionality, and the nearest neighbors algorithm does better when features are continuous as distances are less likely to be equal. \n",
    "\n",
    "Naive bayes was added as a suboptimal classifier as our features are not independent, and we got our first bit of error when we removed categories. A dummy classifier was included as well to give a baseline for what our models should be better than.\n",
    "\n",
    "Overall I'd prefer the Random Forest because it allows better usage of all of our features as well as being well easier to interpret if we needed to explain the model."
   ]
  }
 ],
 "metadata": {
  "kernelspec": {
   "display_name": "Python 3",
   "language": "python",
   "name": "python3"
  },
  "language_info": {
   "codemirror_mode": {
    "name": "ipython",
    "version": 3
   },
   "file_extension": ".py",
   "mimetype": "text/x-python",
   "name": "python",
   "nbconvert_exporter": "python",
   "pygments_lexer": "ipython3",
   "version": "3.8.1"
  }
 },
 "nbformat": 4,
 "nbformat_minor": 4
}
